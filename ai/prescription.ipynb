{
 "cells": [
  {
   "cell_type": "code",
   "execution_count": 6,
   "id": "varied-surrey",
   "metadata": {},
   "outputs": [],
   "source": [
    "import pandas as pd\n",
    "\n",
    "train_df = pd.read_csv(\"C:/pill/nsmc-master/ratings_train.txt\", \"\\t\")\n",
    "test_df = pd.read_csv(\"C:/pill/nsmc-master/ratings_test.txt\", \"\\t\")"
   ]
  },
  {
   "cell_type": "code",
   "execution_count": 7,
   "id": "natural-senegal",
   "metadata": {},
   "outputs": [
    {
     "data": {
      "text/plain": [
       "[('흔들리는', 'Verb'),\n",
       " ('꽃', 'Noun'),\n",
       " ('들', 'Suffix'),\n",
       " ('속', 'Noun'),\n",
       " ('에서', 'Josa'),\n",
       " ('네', 'Noun'),\n",
       " ('샴푸', 'Noun'),\n",
       " ('향', 'Noun'),\n",
       " ('이', 'Josa'),\n",
       " ('느껴진거야', 'Verb')]"
      ]
     },
     "execution_count": 7,
     "metadata": {},
     "output_type": "execute_result"
    }
   ],
   "source": [
    "from konlpy.tag import Okt\n",
    "okt = Okt()\n",
    "okt.pos(u'흔들리는 꽃들 속에서 네 샴푸향이 느껴진거야')"
   ]
  },
  {
   "cell_type": "code",
   "execution_count": 8,
   "id": "fleet-oxford",
   "metadata": {},
   "outputs": [],
   "source": [
    "def tokenize(doc):\n",
    "    #형태소와 품사를 join\n",
    "    return ['/'.join(t) for t in okt.pos(doc, norm=True, stem=True)]"
   ]
  },
  {
   "cell_type": "code",
   "execution_count": 9,
   "id": "passive-cycle",
   "metadata": {},
   "outputs": [],
   "source": [
    "train_df.isnull().any() #document에 null값이 있다.\n",
    "train_df['document'] = train_df['document'].fillna(''); #null값을 ''값으로 대체\n",
    "\n",
    "test_df.isnull().any()\n",
    "test_df['document'] = test_df['document'].fillna(''); #null값을 ''값으로 대체"
   ]
  },
  {
   "cell_type": "code",
   "execution_count": 10,
   "id": "intimate-profit",
   "metadata": {},
   "outputs": [],
   "source": [
    "#tokenize 과정은 시간이 오래 걸릴수 있음...\n",
    "train_docs = [(tokenize(row[1]), row[2]) for row in train_df.values]\n",
    "test_docs = [(tokenize(row[1]), row[2]) for row in test_df.values]"
   ]
  },
  {
   "cell_type": "code",
   "execution_count": 11,
   "id": "marine-mainland",
   "metadata": {},
   "outputs": [
    {
     "name": "stdout",
     "output_type": "stream",
     "text": [
      "(['이/Determiner', '걸/Noun', '영화/Noun', '라고/Josa', '만들다/Verb', 'ㅡ/KoreanParticle', ',./Punctuation', 'ㅡ/KoreanParticle'], 0)\n",
      "(['이/Determiner', '걸/Noun', '영화/Noun', '라고/Josa', '만들다/Verb', 'ㅡ/KoreanParticle', ',./Punctuation', 'ㅡ/KoreanParticle'], 0)\n"
     ]
    }
   ],
   "source": [
    "print(train_docs[0])\n",
    "print(test_docs[0])"
   ]
  },
  {
   "cell_type": "code",
   "execution_count": 12,
   "id": "leading-seeking",
   "metadata": {},
   "outputs": [
    {
     "name": "stdout",
     "output_type": "stream",
     "text": [
      "토큰개수: 491497\n"
     ]
    }
   ],
   "source": [
    "tokens = [t for d in train_docs for t in d[0]]\n",
    "print(\"토큰개수:\", len(tokens))"
   ]
  },
  {
   "cell_type": "code",
   "execution_count": 13,
   "id": "ideal-chambers",
   "metadata": {},
   "outputs": [
    {
     "name": "stdout",
     "output_type": "stream",
     "text": [
      "491497\n",
      "25592\n",
      "[('./Punctuation', 19949), ('mg/Alpha', 11515), ('정/Noun', 11280), ('밀리그램/Noun', 8466), ('하다/Verb', 7788), ('캡슐/Noun', 6797), ('이/Josa', 5964), ('영화/Noun', 5481), ('보다/Verb', 5134), ('가/Josa', 4341)]\n"
     ]
    }
   ],
   "source": [
    "import nltk\n",
    "text = nltk.Text(tokens, name='NMSC')\n",
    "\n",
    "#토큰개수\n",
    "print(len(text.tokens))\n",
    "\n",
    "#중복을 제외한 토큰개수\n",
    "print(len(set(text.tokens)))\n",
    "\n",
    "#출력빈도가 높은 상위 토큰 10개\n",
    "print(text.vocab().most_common(10))"
   ]
  },
  {
   "cell_type": "code",
   "execution_count": 14,
   "id": "horizontal-begin",
   "metadata": {},
   "outputs": [],
   "source": [
    "FREQUENCY_COUNT = 10000; #시간적 여유가 있다면 10000개를 해보도록~\n",
    "selected_words = [f[0] for f in text.vocab().most_common(FREQUENCY_COUNT)]\n",
    "#단어리스트 문서에서 상위 10000개들중 포함되는 단어들이 개수\n",
    "def term_frequency(doc):\n",
    "    return [doc.count(word) for word in selected_words]\n",
    "#문서에 들어가는 단어 개수\n",
    "x_train = [term_frequency(d) for d,_ in train_docs]\n",
    "x_test = [term_frequency(d) for d,_ in test_docs]\n",
    "#라벨(1 or 0)\n",
    "y_train = [c for _,c in train_docs]\n",
    "y_test = [c for _,c in test_docs]\n"
   ]
  },
  {
   "cell_type": "code",
   "execution_count": 15,
   "id": "pressing-matthew",
   "metadata": {},
   "outputs": [],
   "source": [
    "import numpy as np\n",
    "x_train = np.asarray(x_train).astype('float32')\n",
    "x_test = np.asarray(x_test).astype('float32')\n",
    "\n",
    "y_train = np.asarray(y_train).astype('float32')\n",
    "y_test = np.asarray(y_test).astype('float32')"
   ]
  },
  {
   "cell_type": "code",
   "execution_count": 16,
   "id": "processed-fiction",
   "metadata": {},
   "outputs": [],
   "source": [
    "import tensorflow as tf\n",
    "\n",
    "#레이어 구성\n",
    "model = tf.keras.models.Sequential([\n",
    "    tf.keras.layers.Dense(64, activation='relu', input_shape=(FREQUENCY_COUNT,)),\n",
    "    tf.keras.layers.Dense(64, activation='relu'),\n",
    "    tf.keras.layers.Dense(1, activation='sigmoid')\n",
    "])"
   ]
  },
  {
   "cell_type": "code",
   "execution_count": 17,
   "id": "ethical-blackberry",
   "metadata": {},
   "outputs": [],
   "source": [
    "#학습 프로세스 설정\n",
    "model.compile(optimizer=tf.keras.optimizers.RMSprop(lr=0.001),\n",
    "    loss=tf.keras.losses.binary_crossentropy,\n",
    "    metrics=[tf.keras.metrics.binary_accuracy]\n",
    "    )"
   ]
  },
  {
   "cell_type": "code",
   "execution_count": 18,
   "id": "comparative-thriller",
   "metadata": {},
   "outputs": [
    {
     "name": "stdout",
     "output_type": "stream",
     "text": [
      "Epoch 1/100\n",
      "129/129 [==============================] - 2s 15ms/step - loss: 0.2632 - binary_accuracy: 0.9635\n",
      "Epoch 2/100\n",
      "129/129 [==============================] - 3s 19ms/step - loss: 0.0167 - binary_accuracy: 0.9943\n",
      "Epoch 3/100\n",
      "129/129 [==============================] - 2s 19ms/step - loss: 0.0129 - binary_accuracy: 0.9952\n",
      "Epoch 4/100\n",
      "129/129 [==============================] - 2s 15ms/step - loss: 0.0116 - binary_accuracy: 0.9958\n",
      "Epoch 5/100\n",
      "129/129 [==============================] - 2s 17ms/step - loss: 0.0117 - binary_accuracy: 0.9955\n",
      "Epoch 6/100\n",
      "129/129 [==============================] - 3s 21ms/step - loss: 0.0110 - binary_accuracy: 0.9955\n",
      "Epoch 7/100\n",
      "129/129 [==============================] - 2s 16ms/step - loss: 0.0114 - binary_accuracy: 0.9957\n",
      "Epoch 8/100\n",
      "129/129 [==============================] - 2s 16ms/step - loss: 0.0110 - binary_accuracy: 0.9955\n",
      "Epoch 9/100\n",
      "129/129 [==============================] - 3s 20ms/step - loss: 0.0094 - binary_accuracy: 0.9963\n",
      "Epoch 10/100\n",
      "129/129 [==============================] - 2s 19ms/step - loss: 0.0103 - binary_accuracy: 0.9960\n",
      "Epoch 11/100\n",
      "129/129 [==============================] - 2s 15ms/step - loss: 0.0112 - binary_accuracy: 0.9957\n",
      "Epoch 12/100\n",
      "129/129 [==============================] - 2s 17ms/step - loss: 0.0101 - binary_accuracy: 0.9961\n",
      "Epoch 13/100\n",
      "129/129 [==============================] - 3s 21ms/step - loss: 0.0107 - binary_accuracy: 0.9957\n",
      "Epoch 14/100\n",
      "129/129 [==============================] - 2s 17ms/step - loss: 0.0104 - binary_accuracy: 0.9959\n",
      "Epoch 15/100\n",
      "129/129 [==============================] - 2s 15ms/step - loss: 0.0108 - binary_accuracy: 0.9956\n",
      "Epoch 16/100\n",
      "129/129 [==============================] - 3s 20ms/step - loss: 0.0111 - binary_accuracy: 0.9954\n",
      "Epoch 17/100\n",
      "129/129 [==============================] - 2s 19ms/step - loss: 0.0111 - binary_accuracy: 0.9958\n",
      "Epoch 18/100\n",
      "129/129 [==============================] - 2s 15ms/step - loss: 0.0109 - binary_accuracy: 0.9956\n",
      "Epoch 19/100\n",
      "129/129 [==============================] - 2s 18ms/step - loss: 0.0107 - binary_accuracy: 0.9959\n",
      "Epoch 20/100\n",
      "129/129 [==============================] - 3s 21ms/step - loss: 0.0103 - binary_accuracy: 0.9960\n",
      "Epoch 21/100\n",
      "129/129 [==============================] - 2s 16ms/step - loss: 0.0097 - binary_accuracy: 0.9962\n",
      "Epoch 22/100\n",
      "129/129 [==============================] - 2s 15ms/step - loss: 0.0112 - binary_accuracy: 0.9956\n",
      "Epoch 23/100\n",
      "129/129 [==============================] - 3s 20ms/step - loss: 0.0092 - binary_accuracy: 0.9963\n",
      "Epoch 24/100\n",
      "129/129 [==============================] - 2s 18ms/step - loss: 0.0106 - binary_accuracy: 0.9957\n",
      "Epoch 25/100\n",
      "129/129 [==============================] - 2s 15ms/step - loss: 0.0096 - binary_accuracy: 0.9962\n",
      "Epoch 26/100\n",
      "129/129 [==============================] - 2s 16ms/step - loss: 0.0106 - binary_accuracy: 0.9959\n",
      "Epoch 27/100\n",
      "129/129 [==============================] - 3s 20ms/step - loss: 0.0111 - binary_accuracy: 0.9958\n",
      "Epoch 28/100\n",
      "129/129 [==============================] - 2s 16ms/step - loss: 0.0106 - binary_accuracy: 0.9958\n",
      "Epoch 29/100\n",
      "129/129 [==============================] - 2s 15ms/step - loss: 0.0104 - binary_accuracy: 0.9962\n",
      "Epoch 30/100\n",
      "129/129 [==============================] - 2s 19ms/step - loss: 0.0110 - binary_accuracy: 0.9955\n",
      "Epoch 31/100\n",
      "129/129 [==============================] - 3s 20ms/step - loss: 0.0106 - binary_accuracy: 0.9960\n",
      "Epoch 32/100\n",
      "129/129 [==============================] - 2s 17ms/step - loss: 0.0104 - binary_accuracy: 0.9960\n",
      "Epoch 33/100\n",
      "129/129 [==============================] - 2s 17ms/step - loss: 0.0105 - binary_accuracy: 0.9961\n",
      "Epoch 34/100\n",
      "129/129 [==============================] - 3s 21ms/step - loss: 0.0099 - binary_accuracy: 0.9963\n",
      "Epoch 35/100\n",
      "129/129 [==============================] - 2s 16ms/step - loss: 0.0107 - binary_accuracy: 0.9959\n",
      "Epoch 36/100\n",
      "129/129 [==============================] - 2s 15ms/step - loss: 0.0102 - binary_accuracy: 0.9958\n",
      "Epoch 37/100\n",
      "129/129 [==============================] - 3s 20ms/step - loss: 0.0104 - binary_accuracy: 0.9958\n",
      "Epoch 38/100\n",
      "129/129 [==============================] - 2s 19ms/step - loss: 0.0096 - binary_accuracy: 0.9962\n",
      "Epoch 39/100\n",
      "129/129 [==============================] - 2s 17ms/step - loss: 0.0094 - binary_accuracy: 0.9963\n",
      "Epoch 40/100\n",
      "129/129 [==============================] - 3s 20ms/step - loss: 0.0105 - binary_accuracy: 0.9958\n",
      "Epoch 41/100\n",
      "129/129 [==============================] - 3s 20ms/step - loss: 0.0109 - binary_accuracy: 0.9956\n",
      "Epoch 42/100\n",
      "129/129 [==============================] - 2s 15ms/step - loss: 0.0094 - binary_accuracy: 0.9963\n",
      "Epoch 43/100\n",
      "129/129 [==============================] - 2s 16ms/step - loss: 0.0101 - binary_accuracy: 0.9961\n",
      "Epoch 44/100\n",
      "129/129 [==============================] - 3s 20ms/step - loss: 0.0103 - binary_accuracy: 0.9960: 0s - loss: 0.0103 - binary_accur\n",
      "Epoch 45/100\n",
      "129/129 [==============================] - 2s 17ms/step - loss: 0.0099 - binary_accuracy: 0.9960\n",
      "Epoch 46/100\n",
      "129/129 [==============================] - 2s 16ms/step - loss: 0.0099 - binary_accuracy: 0.9960\n",
      "Epoch 47/100\n",
      "129/129 [==============================] - 2s 19ms/step - loss: 0.0104 - binary_accuracy: 0.9959\n",
      "Epoch 48/100\n",
      "129/129 [==============================] - 3s 20ms/step - loss: 0.0097 - binary_accuracy: 0.9961\n",
      "Epoch 49/100\n",
      "129/129 [==============================] - 2s 16ms/step - loss: 0.0102 - binary_accuracy: 0.9959\n",
      "Epoch 50/100\n",
      "129/129 [==============================] - 2s 17ms/step - loss: 0.0092 - binary_accuracy: 0.9963\n",
      "Epoch 51/100\n",
      "129/129 [==============================] - 3s 22ms/step - loss: 0.0097 - binary_accuracy: 0.9962\n",
      "Epoch 52/100\n",
      "129/129 [==============================] - 2s 17ms/step - loss: 0.0102 - binary_accuracy: 0.9958\n",
      "Epoch 53/100\n",
      "129/129 [==============================] - 2s 15ms/step - loss: 0.0096 - binary_accuracy: 0.9961\n",
      "Epoch 54/100\n",
      "129/129 [==============================] - 3s 20ms/step - loss: 0.0098 - binary_accuracy: 0.9960\n",
      "Epoch 55/100\n",
      "129/129 [==============================] - 2s 19ms/step - loss: 0.0104 - binary_accuracy: 0.9957\n",
      "Epoch 56/100\n",
      "129/129 [==============================] - 2s 15ms/step - loss: 0.0100 - binary_accuracy: 0.9960\n",
      "Epoch 57/100\n",
      "129/129 [==============================] - 2s 16ms/step - loss: 0.0092 - binary_accuracy: 0.9963\n",
      "Epoch 58/100\n",
      "129/129 [==============================] - 3s 20ms/step - loss: 0.0105 - binary_accuracy: 0.9958\n",
      "Epoch 59/100\n",
      "129/129 [==============================] - 2s 16ms/step - loss: 0.0096 - binary_accuracy: 0.9961\n",
      "Epoch 60/100\n",
      "129/129 [==============================] - 2s 14ms/step - loss: 0.0092 - binary_accuracy: 0.9964\n",
      "Epoch 61/100\n",
      "129/129 [==============================] - 2s 17ms/step - loss: 0.0096 - binary_accuracy: 0.9963\n",
      "Epoch 62/100\n",
      "129/129 [==============================] - 3s 20ms/step - loss: 0.0103 - binary_accuracy: 0.9958\n",
      "Epoch 63/100\n",
      "129/129 [==============================] - 2s 14ms/step - loss: 0.0100 - binary_accuracy: 0.9960\n",
      "Epoch 64/100\n",
      "129/129 [==============================] - 2s 14ms/step - loss: 0.0100 - binary_accuracy: 0.9960\n",
      "Epoch 65/100\n",
      "129/129 [==============================] - 2s 19ms/step - loss: 0.0098 - binary_accuracy: 0.9961\n",
      "Epoch 66/100\n",
      "129/129 [==============================] - 2s 18ms/step - loss: 0.0100 - binary_accuracy: 0.9960\n",
      "Epoch 67/100\n",
      "129/129 [==============================] - 2s 14ms/step - loss: 0.0100 - binary_accuracy: 0.9959\n",
      "Epoch 68/100\n",
      "129/129 [==============================] - 2s 16ms/step - loss: 0.0097 - binary_accuracy: 0.9961\n",
      "Epoch 69/100\n",
      "129/129 [==============================] - 3s 20ms/step - loss: 0.0094 - binary_accuracy: 0.9962\n",
      "Epoch 70/100\n",
      "129/129 [==============================] - 2s 16ms/step - loss: 0.0106 - binary_accuracy: 0.9955\n",
      "Epoch 71/100\n",
      "129/129 [==============================] - 2s 14ms/step - loss: 0.0099 - binary_accuracy: 0.9959\n",
      "Epoch 72/100\n",
      "129/129 [==============================] - 2s 17ms/step - loss: 0.0101 - binary_accuracy: 0.9961\n",
      "Epoch 73/100\n",
      "129/129 [==============================] - 3s 21ms/step - loss: 0.0106 - binary_accuracy: 0.9957\n",
      "Epoch 74/100\n",
      "129/129 [==============================] - 2s 15ms/step - loss: 0.0096 - binary_accuracy: 0.9963\n",
      "Epoch 75/100\n",
      "129/129 [==============================] - 2s 15ms/step - loss: 0.0097 - binary_accuracy: 0.9962\n",
      "Epoch 76/100\n",
      "129/129 [==============================] - 3s 21ms/step - loss: 0.0101 - binary_accuracy: 0.9959\n",
      "Epoch 77/100\n",
      "129/129 [==============================] - 2s 18ms/step - loss: 0.0098 - binary_accuracy: 0.9960\n",
      "Epoch 78/100\n",
      "129/129 [==============================] - 2s 16ms/step - loss: 0.0093 - binary_accuracy: 0.9964\n",
      "Epoch 79/100\n",
      "129/129 [==============================] - 2s 19ms/step - loss: 0.0095 - binary_accuracy: 0.9962\n",
      "Epoch 80/100\n",
      "129/129 [==============================] - 3s 21ms/step - loss: 0.0093 - binary_accuracy: 0.9963\n",
      "Epoch 81/100\n",
      "129/129 [==============================] - 2s 18ms/step - loss: 0.0099 - binary_accuracy: 0.9961\n",
      "Epoch 82/100\n",
      "129/129 [==============================] - 2s 19ms/step - loss: 0.0099 - binary_accuracy: 0.9959\n",
      "Epoch 83/100\n",
      "129/129 [==============================] - 3s 23ms/step - loss: 0.0098 - binary_accuracy: 0.9960\n",
      "Epoch 84/100\n",
      "129/129 [==============================] - 2s 18ms/step - loss: 0.0096 - binary_accuracy: 0.9962\n",
      "Epoch 85/100\n",
      "129/129 [==============================] - 2s 18ms/step - loss: 0.0099 - binary_accuracy: 0.9960\n",
      "Epoch 86/100\n",
      "129/129 [==============================] - 3s 21ms/step - loss: 0.0099 - binary_accuracy: 0.9960\n",
      "Epoch 87/100\n",
      "129/129 [==============================] - 2s 16ms/step - loss: 0.0099 - binary_accuracy: 0.9961\n",
      "Epoch 88/100\n",
      "129/129 [==============================] - 2s 15ms/step - loss: 0.0100 - binary_accuracy: 0.9960\n",
      "Epoch 89/100\n",
      "129/129 [==============================] - 2s 19ms/step - loss: 0.0098 - binary_accuracy: 0.9961\n",
      "Epoch 90/100\n",
      "129/129 [==============================] - 3s 22ms/step - loss: 0.0106 - binary_accuracy: 0.9958\n",
      "Epoch 91/100\n",
      "129/129 [==============================] - 2s 17ms/step - loss: 0.0094 - binary_accuracy: 0.9961\n",
      "Epoch 92/100\n",
      "129/129 [==============================] - 2s 18ms/step - loss: 0.0100 - binary_accuracy: 0.9961\n",
      "Epoch 93/100\n",
      "129/129 [==============================] - 3s 22ms/step - loss: 0.0101 - binary_accuracy: 0.9959\n",
      "Epoch 94/100\n",
      "129/129 [==============================] - 2s 15ms/step - loss: 0.0097 - binary_accuracy: 0.9961\n",
      "Epoch 95/100\n",
      "129/129 [==============================] - 2s 18ms/step - loss: 0.0104 - binary_accuracy: 0.9957\n",
      "Epoch 96/100\n",
      "129/129 [==============================] - 3s 22ms/step - loss: 0.0104 - binary_accuracy: 0.9956\n",
      "Epoch 97/100\n",
      "129/129 [==============================] - 2s 17ms/step - loss: 0.0096 - binary_accuracy: 0.9961\n",
      "Epoch 98/100\n",
      "129/129 [==============================] - 2s 16ms/step - loss: 0.0104 - binary_accuracy: 0.9956\n",
      "Epoch 99/100\n",
      "129/129 [==============================] - 3s 20ms/step - loss: 0.0097 - binary_accuracy: 0.9961\n",
      "Epoch 100/100\n",
      "129/129 [==============================] - 3s 20ms/step - loss: 0.0093 - binary_accuracy: 0.9963: 2s - loss: 0\n"
     ]
    },
    {
     "data": {
      "text/plain": [
       "<tensorflow.python.keras.callbacks.History at 0x2a3bfd18508>"
      ]
     },
     "execution_count": 18,
     "metadata": {},
     "output_type": "execute_result"
    }
   ],
   "source": [
    "model.fit(x_train, y_train, epochs=100, batch_size=512)\n"
   ]
  },
  {
   "cell_type": "code",
   "execution_count": 19,
   "id": "optical-wheat",
   "metadata": {},
   "outputs": [
    {
     "name": "stdout",
     "output_type": "stream",
     "text": [
      "946/946 [==============================] - 1s 1ms/step - loss: 0.0082 - binary_accuracy: 0.9986\n"
     ]
    }
   ],
   "source": [
    "results = model.evaluate(x_test, y_test)\n"
   ]
  },
  {
   "cell_type": "code",
   "execution_count": 20,
   "id": "neutral-capability",
   "metadata": {},
   "outputs": [
    {
     "data": {
      "text/plain": [
       "[0.008208808489143848, 0.9986448287963867]"
      ]
     },
     "execution_count": 20,
     "metadata": {},
     "output_type": "execute_result"
    }
   ],
   "source": [
    "results\n"
   ]
  },
  {
   "cell_type": "code",
   "execution_count": 21,
   "id": "british-multiple",
   "metadata": {},
   "outputs": [],
   "source": [
    "model.save('C:/pill/pill_prescription2.h5')\n"
   ]
  },
  {
   "cell_type": "code",
   "execution_count": 22,
   "id": "concrete-noise",
   "metadata": {},
   "outputs": [],
   "source": [
    "def predict_pill(review):\n",
    "    token = tokenize(review)\n",
    "    tfq = term_frequency(token)\n",
    "    data = np.expand_dims(np.asarray(tfq).astype('float32'), axis=0)\n",
    "    score = float(model.predict(data))\n",
    "    if(score > 0.5):\n",
    "        print(f\"{review} ==> 약 ({round(score*100)}%)\")\n",
    "    else:\n",
    "        print(f\"{review} ==> 약 아님 ({round((1-score)*100)}%)\")"
   ]
  },
  {
   "cell_type": "code",
   "execution_count": 23,
   "id": "afraid-wallace",
   "metadata": {},
   "outputs": [
    {
     "name": "stdout",
     "output_type": "stream",
     "text": [
      "테라싸이클 린캅셀250말일리그람(항생제 ==> 약 (100%)\n"
     ]
    }
   ],
   "source": [
    "predict_pill(\"테라싸이클 린캅셀250말일리그람(항생제\")\n"
   ]
  },
  {
   "cell_type": "code",
   "execution_count": null,
   "id": "urban-motor",
   "metadata": {},
   "outputs": [],
   "source": []
  }
 ],
 "metadata": {
  "kernelspec": {
   "display_name": "Python 3",
   "language": "python",
   "name": "python3"
  },
  "language_info": {
   "codemirror_mode": {
    "name": "ipython",
    "version": 3
   },
   "file_extension": ".py",
   "mimetype": "text/x-python",
   "name": "python",
   "nbconvert_exporter": "python",
   "pygments_lexer": "ipython3",
   "version": "3.7.10"
  }
 },
 "nbformat": 4,
 "nbformat_minor": 5
}
