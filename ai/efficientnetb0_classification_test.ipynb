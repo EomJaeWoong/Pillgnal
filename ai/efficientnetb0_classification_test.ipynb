{
 "cells": [
  {
   "cell_type": "code",
   "execution_count": 99,
   "id": "cloudy-bread",
   "metadata": {
    "scrolled": true
   },
   "outputs": [
    {
     "name": "stdout",
     "output_type": "stream",
     "text": [
      "224\n",
      "Loaded pretrained weights for efficientnet-b0\n",
      "tensor([[-3.2135,  0.3781,  1.5526,  0.5304, -1.8650,  5.6038, -1.4492, -1.8365,\n",
      "          3.2470, -2.8318]], grad_fn=<AddmmBackward>)\n",
      "rectangle\n"
     ]
    }
   ],
   "source": [
    "import numpy as np\n",
    "import json\n",
    "from PIL import Image\n",
    "import PIL\n",
    "import torch\n",
    "import torch.nn as nn\n",
    "import torch.optim as optim\n",
    "from torch.optim import lr_scheduler\n",
    "from torchvision import transforms\n",
    "import matplotlib.pyplot as plt\n",
    "import time\n",
    "import os\n",
    "import copy\n",
    "import random\n",
    "from efficientnet_pytorch import EfficientNet\n",
    "import torchvision\n",
    "import tensorflow as tf\n",
    "from torchvision import transforms, datasets\n",
    "\n",
    "class_names = {\n",
    "    \"0\": \"circle\",      # \"0\": \"원형\"\n",
    "    \"1\": \"hexagon\",   # \"1\": \"육각형\"\n",
    "    \"2\": \"octagon\",   # \"2\": \"팔각형\"\n",
    "    \"3\": \"oval\",  # \"3\": \"타원형\"\n",
    "    \"4\": \"pentagon\",   # \"4\": \"오각형\"\n",
    "    \"5\": \"rectangle\",   # \"5\": \"직사각형\"\n",
    "    \"6\": \"rhombus\",   # \"6\": \"마름모형\"\n",
    "    \"7\": \"semicircular\",   # \"7\": \"반원형\"\n",
    "    \"8\": \"square\",   # \"8\": \"정사각형\"\n",
    "    \"9\": \"triangle\"   # \"9\": \"삼각형\"\n",
    "}\n",
    "\n",
    "model_name = 'efficientnet-b0'  # b5\n",
    "image_size = EfficientNet.get_image_size(model_name)\n",
    "print(image_size)\n",
    "model = EfficientNet.from_pretrained(model_name, num_classes=10)\n",
    "PATH = \"C:/python/pill_model.pt\"\n",
    "device = torch.device('cpu')\n",
    "model.load_state_dict(torch.load(PATH, map_location=device))\n",
    "\n",
    "## make dataset\n",
    "from torchvision import transforms, datasets\n",
    "transform = transforms.Compose([\n",
    "                                    transforms.Resize((224, 224)),\n",
    "                                    transforms.ToTensor(),\n",
    "                                    transforms.Normalize(mean=[0.485, 0.456, 0.406], std=[0.229, 0.224, 0.225]),\n",
    "                                ])\n",
    "\n",
    "import urllib.request as req\n",
    "url = 'https://storage.googleapis.com/ocrtestttt/KakaoTalk_20210303_152346768.jpg'\n",
    "\n",
    "save_path = \"C:/python/test/temp.jpg\"\n",
    "\n",
    "image_read = req.urlopen(url).read()\n",
    "image_open = open(save_path,'wb')\n",
    "image_open.write(image_read)\n",
    "\n",
    "img = PIL.Image.open(save_path)\n",
    "img = data_transforms(img)\n",
    "model.eval()\n",
    "prediction = model(img.unsqueeze(0))\n",
    "print(prediction)\n",
    "a = torch.argmax(prediction)\n",
    "temp = str(a.item())\n",
    "print(class_names[temp])"
   ]
  },
  {
   "cell_type": "code",
   "execution_count": null,
   "id": "headed-basics",
   "metadata": {},
   "outputs": [],
   "source": []
  }
 ],
 "metadata": {
  "kernelspec": {
   "display_name": "Python 3",
   "language": "python",
   "name": "python3"
  },
  "language_info": {
   "codemirror_mode": {
    "name": "ipython",
    "version": 3
   },
   "file_extension": ".py",
   "mimetype": "text/x-python",
   "name": "python",
   "nbconvert_exporter": "python",
   "pygments_lexer": "ipython3",
   "version": "3.7.10"
  }
 },
 "nbformat": 4,
 "nbformat_minor": 5
}
